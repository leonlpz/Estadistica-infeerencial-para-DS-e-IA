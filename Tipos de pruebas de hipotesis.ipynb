{
 "cells": [
  {
   "cell_type": "code",
   "execution_count": 37,
   "id": "d0d54453-1801-4597-9a81-dea292d6ebdd",
   "metadata": {},
   "outputs": [],
   "source": [
    "import pandas as pd\n",
    "import numpy as np \n",
    "import seaborn as sns \n",
    "import scipy.stats as st\n",
    "from scipy.stats import f_oneway\n",
    "from scipy.stats import ttest_ind"
   ]
  },
  {
   "cell_type": "code",
   "execution_count": 45,
   "id": "ec64e330-debb-47f4-9b58-fce276cc989c",
   "metadata": {},
   "outputs": [
    {
     "data": {
      "text/html": [
       "<div>\n",
       "<style scoped>\n",
       "    .dataframe tbody tr th:only-of-type {\n",
       "        vertical-align: middle;\n",
       "    }\n",
       "\n",
       "    .dataframe tbody tr th {\n",
       "        vertical-align: top;\n",
       "    }\n",
       "\n",
       "    .dataframe thead th {\n",
       "        text-align: right;\n",
       "    }\n",
       "</style>\n",
       "<table border=\"1\" class=\"dataframe\">\n",
       "  <thead>\n",
       "    <tr style=\"text-align: right;\">\n",
       "      <th></th>\n",
       "      <th>sepal_length</th>\n",
       "      <th>sepal_width</th>\n",
       "      <th>petal_length</th>\n",
       "      <th>petal_width</th>\n",
       "    </tr>\n",
       "  </thead>\n",
       "  <tbody>\n",
       "    <tr>\n",
       "      <th>0</th>\n",
       "      <td>5.1</td>\n",
       "      <td>3.5</td>\n",
       "      <td>1.4</td>\n",
       "      <td>0.2</td>\n",
       "    </tr>\n",
       "    <tr>\n",
       "      <th>1</th>\n",
       "      <td>4.9</td>\n",
       "      <td>3.0</td>\n",
       "      <td>1.4</td>\n",
       "      <td>0.2</td>\n",
       "    </tr>\n",
       "    <tr>\n",
       "      <th>2</th>\n",
       "      <td>4.7</td>\n",
       "      <td>3.2</td>\n",
       "      <td>1.3</td>\n",
       "      <td>0.2</td>\n",
       "    </tr>\n",
       "    <tr>\n",
       "      <th>3</th>\n",
       "      <td>4.6</td>\n",
       "      <td>3.1</td>\n",
       "      <td>1.5</td>\n",
       "      <td>0.2</td>\n",
       "    </tr>\n",
       "    <tr>\n",
       "      <th>4</th>\n",
       "      <td>5.0</td>\n",
       "      <td>3.6</td>\n",
       "      <td>1.4</td>\n",
       "      <td>0.2</td>\n",
       "    </tr>\n",
       "  </tbody>\n",
       "</table>\n",
       "</div>"
      ],
      "text/plain": [
       "   sepal_length  sepal_width  petal_length  petal_width\n",
       "0           5.1          3.5           1.4          0.2\n",
       "1           4.9          3.0           1.4          0.2\n",
       "2           4.7          3.2           1.3          0.2\n",
       "3           4.6          3.1           1.5          0.2\n",
       "4           5.0          3.6           1.4          0.2"
      ]
     },
     "execution_count": 45,
     "metadata": {},
     "output_type": "execute_result"
    }
   ],
   "source": [
    "iris=sns.load_dataset(\"iris\") # Usamos la base de datos iris almacenada en la libreria seaborn\n",
    "iris.head()\n",
    "df = iris.loc[:, ['sepal_length', 'sepal_width', 'petal_length', 'petal_width']]\n",
    "df.head()"
   ]
  },
  {
   "cell_type": "markdown",
   "id": "e068eb85-db23-4ab1-991b-8fdce33f835c",
   "metadata": {},
   "source": [
    "## Tipos de pruebas"
   ]
  },
  {
   "cell_type": "markdown",
   "id": "7faac6e7-61ab-4796-93f4-9ab800b1c718",
   "metadata": {},
   "source": [
    "### a) Distribución t de Student \n",
    "\n",
    "# $$ SE = \\frac{\\sigma}{\\sqrt{N}} $$"
   ]
  },
  {
   "cell_type": "code",
   "execution_count": 49,
   "id": "622b5f03-249d-4cb5-aad5-df8f0b82d6f3",
   "metadata": {},
   "outputs": [],
   "source": [
    "se_length=df.std()['sepal_length']/np.sqrt(10)\n",
    "se_width=df.std()['sepal_width']/np.sqrt(10)"
   ]
  },
  {
   "cell_type": "markdown",
   "id": "34c1c82f-48cf-4844-a900-b1e40aa60ffd",
   "metadata": {},
   "source": [
    "# $$ SED = \\sqrt{\\frac{\\sigma_1^2}{N_1} + \\frac{\\sigma_1^2}{N_1}} $$"
   ]
  },
  {
   "cell_type": "code",
   "execution_count": 53,
   "id": "f3149952-73f3-40a5-8f4f-917674de0b4e",
   "metadata": {},
   "outputs": [],
   "source": [
    "sed=np.sqrt((se_length**2) + (se_width**2))"
   ]
  },
  {
   "cell_type": "markdown",
   "id": "ab8f0834-2c1a-4522-9200-35dabf304e6d",
   "metadata": {},
   "source": [
    "# $$ t = \\frac{x_1-x_2}{SED} $$"
   ]
  },
  {
   "cell_type": "code",
   "execution_count": 60,
   "id": "cfabab2c-1a19-41d5-a7ae-27cc838f8f7c",
   "metadata": {},
   "outputs": [
    {
     "data": {
      "text/plain": [
       "9.414779428410265"
      ]
     },
     "execution_count": 60,
     "metadata": {},
     "output_type": "execute_result"
    }
   ],
   "source": [
    "t_stat=(df.mean()['sepal_length'] - df.mean()['sepal_width'])/sed\n",
    "t_stat"
   ]
  },
  {
   "cell_type": "code",
   "execution_count": 64,
   "id": "df8b1650-ae5a-4a5b-ba5e-984c25a909b1",
   "metadata": {},
   "outputs": [
    {
     "data": {
      "text/plain": [
       "TtestResult(statistic=36.463283934449116, pvalue=7.027919392009369e-112, df=298.0)"
      ]
     },
     "execution_count": 64,
     "metadata": {},
     "output_type": "execute_result"
    }
   ],
   "source": [
    "p = ttest_ind(df['sepal_length'], df['sepal_width'])\n",
    "p"
   ]
  },
  {
   "cell_type": "markdown",
   "id": "5484e664-f2c5-45d4-a697-4b8e90edb94f",
   "metadata": {},
   "source": [
    "### El valor absoluto del valor t es mayor que el valor crítico, entonces rechazamos la hipótesis nula, concluimos que las distribuciones son diferentes, teniendo en cuenta que la hipotesis original era que las distribuciones eran iguales."
   ]
  },
  {
   "cell_type": "markdown",
   "id": "0c2e5384-27b3-442d-a2b7-57dd62ceda98",
   "metadata": {},
   "source": [
    "## b) Correlación y coeficiente de Pearson"
   ]
  },
  {
   "cell_type": "code",
   "execution_count": 69,
   "id": "b4e69c52-feec-435a-a616-6ba7ad09e82e",
   "metadata": {},
   "outputs": [
    {
     "data": {
      "text/plain": [
       "-0.11756978413300208"
      ]
     },
     "execution_count": 69,
     "metadata": {},
     "output_type": "execute_result"
    }
   ],
   "source": [
    "# Estudiamos la correlación entre length y width\n",
    "df['sepal_length'].corr(df['sepal_width'])"
   ]
  },
  {
   "cell_type": "code",
   "execution_count": 73,
   "id": "6248b324-fcef-430d-bd7b-d2f9f60ff502",
   "metadata": {},
   "outputs": [
    {
     "data": {
      "text/plain": [
       "PearsonRResult(statistic=-0.11756978413300204, pvalue=0.15189826071144746)"
      ]
     },
     "execution_count": 73,
     "metadata": {},
     "output_type": "execute_result"
    }
   ],
   "source": [
    "# A continuación, estudiamos la correlación de Pearson entre ambas variables\n",
    "st.pearsonr(df['sepal_length'], df['sepal_width'])"
   ]
  },
  {
   "cell_type": "markdown",
   "id": "04cb71fa-ee36-4080-8838-7d7a37c149f7",
   "metadata": {},
   "source": [
    "### Correlación debil o inexistente "
   ]
  },
  {
   "cell_type": "markdown",
   "id": "1bd97785-319e-4dce-b9d4-c88a7cf5f3ba",
   "metadata": {},
   "source": [
    "# Análisis de la varianza (ANOVA)"
   ]
  },
  {
   "cell_type": "code",
   "execution_count": 79,
   "id": "e2f8e8e0-e522-4e28-a224-0aac3ff8a39d",
   "metadata": {},
   "outputs": [
    {
     "data": {
      "text/plain": [
       "F_onewayResult(statistic=1329.571075284254, pvalue=7.027919392009998e-112)"
      ]
     },
     "execution_count": 79,
     "metadata": {},
     "output_type": "execute_result"
    }
   ],
   "source": [
    "f_oneway(df['sepal_length'], df['sepal_width'])"
   ]
  },
  {
   "cell_type": "markdown",
   "id": "75425c0c-a352-49e0-a1fd-252c424b74c2",
   "metadata": {},
   "source": [
    "###F Test es 1,329.57 y su pvalue correspondiente es 7.027e-112. Dado que es un número inferior a 0.05 rechazamos la hipótesis nula de que las medias entre variables son similares y concluimos que sí hay diferencias"
   ]
  }
 ],
 "metadata": {
  "kernelspec": {
   "display_name": "anaconda-panel-2023.05-py310",
   "language": "python",
   "name": "conda-env-anaconda-panel-2023.05-py310-py"
  },
  "language_info": {
   "codemirror_mode": {
    "name": "ipython",
    "version": 3
   },
   "file_extension": ".py",
   "mimetype": "text/x-python",
   "name": "python",
   "nbconvert_exporter": "python",
   "pygments_lexer": "ipython3",
   "version": "3.11.5"
  }
 },
 "nbformat": 4,
 "nbformat_minor": 5
}
